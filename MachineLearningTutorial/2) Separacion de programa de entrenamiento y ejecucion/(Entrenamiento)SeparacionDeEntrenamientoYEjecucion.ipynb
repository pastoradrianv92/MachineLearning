{
 "cells": [
  {
   "cell_type": "code",
   "execution_count": null,
   "metadata": {},
   "outputs": [],
   "source": [
    "import pandas as pd\n",
    "from sklearn.tree import DecisionTreeClassifier\n",
    "\n",
    "#Paquete para saving y loading modulos externos\n",
    "from sklearn.externals import joblib\n",
    "\n",
    "\n",
    "from sklearn.model_selection import train_test_split\n",
    "from sklearn.metrics import accuracy_score\n",
    "df = pd.read_csv('~/Documentos/Data Video Juegos/music.csv')\n",
    "X = df.drop(columns='genre')\n",
    "Y = df['genre']\n",
    "model = DecisionTreeClassifier()\n",
    "model.fit(X_train, Y_train)\n",
    "#(EN ESTE MODULO NO HACEMOS PREDICCIONES SOLO ENTRENAMOS) predicciones = model.predict(X_test)\n",
    "\n",
    "#FINALMENTE GUARDAMOS ESTE MODULO PARA SER USADO POSTERIORMENTE EN CUALQUIER APLICACION\n",
    "joblib.dump(model,'')\n",
    " "
   ]
  }
 ],
 "metadata": {
  "kernelspec": {
   "display_name": "Python 3",
   "language": "python",
   "name": "python3"
  },
  "language_info": {
   "codemirror_mode": {
    "name": "ipython",
    "version": 3
   },
   "file_extension": ".py",
   "mimetype": "text/x-python",
   "name": "python",
   "nbconvert_exporter": "python",
   "pygments_lexer": "ipython3",
   "version": "3.7.4"
  }
 },
 "nbformat": 4,
 "nbformat_minor": 2
}
