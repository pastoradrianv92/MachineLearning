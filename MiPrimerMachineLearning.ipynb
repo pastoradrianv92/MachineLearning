{
 "cells": [
  {
   "cell_type": "code",
   "execution_count": 43,
   "metadata": {},
   "outputs": [
    {
     "data": {
      "text/plain": [
       "1.0"
      ]
     },
     "execution_count": 43,
     "metadata": {},
     "output_type": "execute_result"
    }
   ],
   "source": [
    "#Paquete para Lectura de datos\n",
    "import pandas as pd\n",
    "#Paquete para convocar el modelo de machine learning Arbol de decisiones\n",
    "from sklearn.tree import DecisionTreeClassifier\n",
    "#Paquete para seleccion aleatoria de datos\n",
    "from sklearn.model_selection import train_test_split\n",
    "#Paquete para medir la precision\n",
    "from sklearn.metrics import accuracy_score\n",
    "#Lectura de datos\n",
    "df = pd.read_csv('~/Documentos/Data Video Juegos/music.csv')\n",
    "#Seleccion de datos de entrada(Datos de cada muestra)\n",
    "X = df.drop(columns='genre')\n",
    "#Seleccion de datos de salida (Musica seleccionada por las muestras recogidas)\n",
    "Y = df['genre']\n",
    "#Creacion del objeto de la clase de Arbol de decisiones\n",
    "model = DecisionTreeClassifier()\n",
    "#Seleccion aleatoria de muestras de entrada y datos de salida para entrenar el modelo\n",
    "X_train, X_test, Y_train, Y_test = train_test_split(X, Y, test_size = 0.2)\n",
    "#Entrenando el modelo\n",
    "model.fit(X_train, Y_train)\n",
    "#POniendo en accion el modelo\n",
    "predicciones = model.predict(X_test)\n",
    "#Comparacion de lo recibido del modelo con los valores reales\n",
    "precision = accuracy_score(Y_test, predicciones)\n",
    "precision "
   ]
  },
  {
   "cell_type": "code",
   "execution_count": null,
   "metadata": {},
   "outputs": [],
   "source": []
  }
 ],
 "metadata": {
  "kernelspec": {
   "display_name": "Python 3",
   "language": "python",
   "name": "python3"
  },
  "language_info": {
   "codemirror_mode": {
    "name": "ipython",
    "version": 3
   },
   "file_extension": ".py",
   "mimetype": "text/x-python",
   "name": "python",
   "nbconvert_exporter": "python",
   "pygments_lexer": "ipython3",
   "version": "3.7.4"
  }
 },
 "nbformat": 4,
 "nbformat_minor": 2
}
