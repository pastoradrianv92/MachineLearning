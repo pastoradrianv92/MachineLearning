{
 "cells": [
  {
   "cell_type": "code",
   "execution_count": 3,
   "metadata": {},
   "outputs": [],
   "source": [
    "import pandas as pd\n",
    "from sklearn.tree import DecisionTreeClassifier\n",
    "\n",
    "#Importando el objeto que exporta el arbol de decisiones de forma grafica\n",
    "from sklearn import tree  \n",
    "\n",
    "df = pd.read_csv('~/Documentos/Data Video Juegos/music.csv')\n",
    "X = df.drop(columns='genre')\n",
    "Y = df['genre']\n",
    "model = DecisionTreeClassifier()\n",
    "model.fit(X, Y)\n",
    "\n",
    "tree.export_graphviz(model, out_file = 'recomendacion-musical.dot',\n",
    "feature_names = ['Edad','Genero'],\n",
    "class_names = sorted(Y.unique()),\n",
    "label = 'all',\n",
    "rounded = True,\n",
    "filled = True)\n"
   ]
  },
  {
   "cell_type": "code",
   "execution_count": null,
   "metadata": {},
   "outputs": [],
   "source": []
  }
 ],
 "metadata": {
  "kernelspec": {
   "display_name": "Python 3",
   "language": "python",
   "name": "python3"
  },
  "language_info": {
   "codemirror_mode": {
    "name": "ipython",
    "version": 3
   },
   "file_extension": ".py",
   "mimetype": "text/x-python",
   "name": "python",
   "nbconvert_exporter": "python",
   "pygments_lexer": "ipython3",
   "version": "3.7.4"
  }
 },
 "nbformat": 4,
 "nbformat_minor": 2
}
